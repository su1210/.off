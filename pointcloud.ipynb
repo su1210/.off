{
  "nbformat": 4,
  "nbformat_minor": 0,
  "metadata": {
    "colab": {
      "name": "test2.ipynb",
      "provenance": [],
      "collapsed_sections": [],
      "authorship_tag": "ABX9TyPfUaiZejRP95QYEjCJrHKu",
      "include_colab_link": true
    },
    "kernelspec": {
      "name": "python3",
      "display_name": "Python 3"
    },
    "language_info": {
      "name": "python"
    },
    "accelerator": "GPU",
    "gpuClass": "standard"
  },
  "cells": [
    {
      "cell_type": "markdown",
      "metadata": {
        "id": "view-in-github",
        "colab_type": "text"
      },
      "source": [
        "<a href=\"https://colab.research.google.com/github/su1210/.off/blob/main/pointcloud.ipynb\" target=\"_parent\"><img src=\"https://colab.research.google.com/assets/colab-badge.svg\" alt=\"Open In Colab\"/></a>"
      ]
    },
    {
      "cell_type": "code",
      "source": [
        "import numpy as np\n",
        "import math\n",
        "import random\n",
        "import os\n",
        "import torch\n",
        "import scipy.spatial.distance\n",
        "from torch.utils.data import Dataset, DataLoader\n",
        "from torchvision import transforms, utils\n",
        "\n",
        "import plotly.graph_objects as go\n",
        "import plotly.express as px"
      ],
      "metadata": {
        "id": "F8hbdE2466Mv"
      },
      "execution_count": 114,
      "outputs": []
    },
    {
      "cell_type": "code",
      "source": [
        "!pip install path.py;\n",
        "from path import Path"
      ],
      "metadata": {
        "colab": {
          "base_uri": "https://localhost:8080/"
        },
        "id": "VnWeLM-L7XIG",
        "outputId": "2c97a03a-0423-4f43-a655-84c1482e712e"
      },
      "execution_count": 115,
      "outputs": [
        {
          "output_type": "stream",
          "name": "stdout",
          "text": [
            "Looking in indexes: https://pypi.org/simple, https://us-python.pkg.dev/colab-wheels/public/simple/\n",
            "Requirement already satisfied: path.py in /usr/local/lib/python3.7/dist-packages (12.5.0)\n",
            "Requirement already satisfied: path in /usr/local/lib/python3.7/dist-packages (from path.py) (16.4.0)\n"
          ]
        }
      ]
    },
    {
      "cell_type": "code",
      "source": [
        "random.seed = 42"
      ],
      "metadata": {
        "id": "0eEmR_2v7b1q"
      },
      "execution_count": 116,
      "outputs": []
    },
    {
      "cell_type": "code",
      "source": [
        "from google.colab import drive\n",
        "drive.mount(\"/content/drive\")"
      ],
      "metadata": {
        "colab": {
          "base_uri": "https://localhost:8080/"
        },
        "id": "ze25SVjh-W9B",
        "outputId": "f661ff52-68ca-4816-85ce-773ebb0ce6dc"
      },
      "execution_count": 117,
      "outputs": [
        {
          "output_type": "stream",
          "name": "stdout",
          "text": [
            "Drive already mounted at /content/drive; to attempt to forcibly remount, call drive.mount(\"/content/drive\", force_remount=True).\n"
          ]
        }
      ]
    },
    {
      "cell_type": "code",
      "source": [
        "import os\n",
        "os.chdir(\"/content/drive/My Drive\")"
      ],
      "metadata": {
        "id": "7-nqrW1K-ZLW"
      },
      "execution_count": 118,
      "outputs": []
    },
    {
      "cell_type": "code",
      "source": [
        "cd .off/"
      ],
      "metadata": {
        "colab": {
          "base_uri": "https://localhost:8080/"
        },
        "id": "9o7ZVrK0_Brw",
        "outputId": "9a449790-f98f-4f2b-8ce4-4a102b6c186f"
      },
      "execution_count": 119,
      "outputs": [
        {
          "output_type": "stream",
          "name": "stdout",
          "text": [
            "/content/drive/My Drive/.off\n"
          ]
        }
      ]
    },
    {
      "cell_type": "code",
      "source": [
        "def read_off(file):\n",
        "    if 'OFF' != file.readline().strip():\n",
        "        raise('Not a valid OFF header')\n",
        "    n_verts, n_faces, __ = tuple([int(s) for s in file.readline().strip().split(' ')])\n",
        "    verts = [[float(s) for s in file.readline().strip().split(' ')] for i_vert in range(n_verts)]\n",
        "    faces = [[int(s) for s in file.readline().strip().split(' ')][1:] for i_face in range(n_faces)]\n",
        "    return verts, faces"
      ],
      "metadata": {
        "id": "T9xCewpX6MlI"
      },
      "execution_count": 120,
      "outputs": []
    },
    {
      "cell_type": "code",
      "source": [
        "with open(\"/content/drive/My Drive/.off/teatop_3.off\") as f:\n",
        "  verts, faces = read_off(f)"
      ],
      "metadata": {
        "id": "Ljg69ymH_qaI"
      },
      "execution_count": 121,
      "outputs": []
    },
    {
      "cell_type": "code",
      "source": [
        "#i,j,k = np.array(faces).T\n",
        "x,y,z = np.array(verts).T"
      ],
      "metadata": {
        "id": "NaIEHP4qBV3u"
      },
      "execution_count": 122,
      "outputs": []
    },
    {
      "cell_type": "code",
      "source": [
        "len(x)"
      ],
      "metadata": {
        "id": "S4JXl227Bjao",
        "colab": {
          "base_uri": "https://localhost:8080/"
        },
        "outputId": "e88f38f1-b81f-4bcd-ad9c-113756244a75"
      },
      "execution_count": 123,
      "outputs": [
        {
          "output_type": "execute_result",
          "data": {
            "text/plain": [
              "120"
            ]
          },
          "metadata": {},
          "execution_count": 123
        }
      ]
    },
    {
      "cell_type": "code",
      "source": [
        "def visualize_rotate(data):\n",
        "    x_eye, y_eye, z_eye = 1.25, 1.25, 0.8\n",
        "    frames=[]\n",
        "\n",
        "    def rotate_z(x, y, z, theta):\n",
        "        w = x+1j*y\n",
        "        return np.real(np.exp(1j*theta)*w), np.imag(np.exp(1j*theta)*w), z\n",
        "\n",
        "    for t in np.arange(0, 10.26, 0.1):\n",
        "        xe, ye, ze = rotate_z(x_eye, y_eye, z_eye, -t)\n",
        "        frames.append(dict(layout=dict(scene=dict(camera=dict(eye=dict(x=xe, y=ye, z=ze))))))\n",
        "    fig = go.Figure(data=data,\n",
        "                    layout=go.Layout(\n",
        "                        updatemenus=[dict(type='buttons',\n",
        "                                    showactive=False,\n",
        "                                    y=1,\n",
        "                                    x=0.8,\n",
        "                                    xanchor='left',\n",
        "                                    yanchor='bottom',\n",
        "                                    pad=dict(t=45, r=10),\n",
        "                                    buttons=[dict(label='Play',\n",
        "                                                    method='animate',\n",
        "                                                    args=[None, dict(frame=dict(duration=50, redraw=True),\n",
        "                                                                    transition=dict(duration=0),\n",
        "                                                                    fromcurrent=True,\n",
        "                                                                    mode='immediate'\n",
        "                                                                    )]\n",
        "                                                    )\n",
        "                                            ]\n",
        "                                    )\n",
        "                                ]\n",
        "                    ),\n",
        "                    frames=frames\n",
        "            )\n",
        "\n",
        "    return fig\n",
        "\n",
        "\n"
      ],
      "metadata": {
        "id": "IBqgdHgrAqvF"
      },
      "execution_count": 124,
      "outputs": []
    },
    {
      "cell_type": "code",
      "source": [
        "visualize_rotate([go.Scatter3d(x=x, y=y, z=z,\n",
        "                                   mode='markers')]).show()"
      ],
      "metadata": {
        "id": "nBVqJ_MUBJvA",
        "colab": {
          "base_uri": "https://localhost:8080/",
          "height": 542
        },
        "outputId": "dcc436d6-bb58-443f-f159-fc9e5467a3c3"
      },
      "execution_count": 125,
      "outputs": [
        {
          "output_type": "display_data",
          "data": {
            "text/html": [
              "<html>\n",
              "<head><meta charset=\"utf-8\" /></head>\n",
              "<body>\n",
              "    <div>            <script src=\"https://cdnjs.cloudflare.com/ajax/libs/mathjax/2.7.5/MathJax.js?config=TeX-AMS-MML_SVG\"></script><script type=\"text/javascript\">if (window.MathJax) {MathJax.Hub.Config({SVG: {font: \"STIX-Web\"}});}</script>                <script type=\"text/javascript\">window.PlotlyConfig = {MathJaxConfig: 'local'};</script>\n",
              "        <script src=\"https://cdn.plot.ly/plotly-2.8.3.min.js\"></script>                <div id=\"b6fe9868-f9ad-406d-b7bb-b27d459e9afd\" class=\"plotly-graph-div\" style=\"height:525px; width:100%;\"></div>            <script type=\"text/javascript\">                                    window.PLOTLYENV=window.PLOTLYENV || {};                                    if (document.getElementById(\"b6fe9868-f9ad-406d-b7bb-b27d459e9afd\")) {                    Plotly.newPlot(                        \"b6fe9868-f9ad-406d-b7bb-b27d459e9afd\",                        [{\"mode\":\"markers\",\"x\":[0.6853969,0.6948417,0.6747401,0.6953723,0.6708598,0.6947579,0.6693603,0.6935498,0.6714429,0.6945435,0.6845003,0.7007778,0.7000398,0.6741586,0.6737631,0.6770542,0.6696538,0.6593679,0.667218,0.6709606,0.6820128,0.6928854,0.7057721,0.7207305,0.6588005,0.6656612,0.6597336,0.6717985,0.7033145,0.6802772,0.6920558,0.6704836,0.6685731,0.6739292,0.6830871,0.6954175,0.7119536,0.7264414,0.6534927,0.6614141,0.6565314,0.6660108,0.7068169,0.6846535,0.6980218,0.6780047,0.6909819,0.6764747,0.6808434,0.6925712,0.6880268,0.7025679,0.7225276,0.716436,0.7313731,0.6475372,0.661114,0.6989219,0.6872466,0.7007518,0.6832285,0.6925624,0.6815048,0.6928827,0.6872256,0.6975977,0.7071502,0.727835,0.7359769,0.7528945,0.685662,0.6928017,0.6833036,0.7085384,0.7334068,0.7589403,0.7083521,0.7365181,0.7612661,0.7078818,0.7331311,0.7587062,0.7089837,0.734433,0.7591651,0.7161508,0.7371833,0.7627667,0.82043,0.7366081,0.7600899,0.8185468,0.6839905,0.6928931,0.6836925,0.690586,0.7415035,0.7723116,0.7416432,0.7527705,0.7572458,0.8071502,0.8156134,0.8160186,0.6899766,0.6989074,0.6868985,0.6968822,0.7498277,0.7469826,0.7521093,0.8027638,0.811582,0.7082274,0.7102836,0.7258015,0.728944,0.7150348,0.7346976,0.7228634],\"y\":[-0.06664259,-0.07107066,-0.04014732,-0.03203694,-0.01505732,-0.01835149,0.01723205,0.01405475,0.04140766,0.04051334,0.07191507,0.08144437,0.09288698,-0.09380889,-0.07596024,-0.04396599,-0.01453746,0.008425413,0.0170473,0.0425396,0.06863477,0.08220058,0.09811954,0.1097083,-0.09327701,-0.0956745,-0.08225261,-0.07218704,-0.06981327,-0.04493995,-0.05224321,-0.01550779,0.0163941,0.04409165,0.0669264,0.08041491,0.09801666,0.1064596,-0.1018938,-0.09322609,-0.08585123,-0.08385243,-0.06801338,-0.04078661,-0.04921345,-0.01484727,-0.02476267,0.01520017,0.04402588,0.05421196,0.06416464,0.07693675,0.08796679,0.09377932,0.1001297,-0.1084885,-0.09412111,-0.06260405,-0.03393011,-0.04641844,-0.01248629,-0.02010286,0.01457917,0.01483462,0.04058186,0.04907438,0.0698282,0.08419503,0.09395941,0.09435278,-0.06605971,-0.0695625,-0.0577896,-0.04370702,-0.04241177,-0.03465874,-0.0148299,-0.01487024,-0.02044285,0.01457388,0.01260596,0.0260814,0.04195308,0.04533998,0.04284168,0.06451874,0.07079744,0.07406218,0.08290125,0.09187823,0.09179842,0.09249382,-0.0643881,-0.06916945,-0.05278819,-0.05096363,-0.006404084,-0.009773714,0.01257068,0.02365416,0.03187082,0.08111924,0.08218026,0.09253833,-0.06094396,-0.06321937,-0.04716922,-0.04716875,-0.001205908,0.01158994,0.01439761,0.07591046,0.09006518,-0.04075233,-0.01867285,-0.01457392,0.005592557,-0.009675107,-0.01048701,0.002677139],\"z\":[0.05975596,0.05362324,0.05254727,0.03221772,0.05138361,0.03423198,0.04809496,0.03523713,0.05035923,0.03322319,0.05225725,0.04922689,0.05152554,0.08216877,0.07787058,0.07671795,0.07558981,0.06227206,0.07571149,0.07510886,0.07533178,0.07544253,0.07621501,0.08498205,0.1167062,0.1023918,0.1122849,0.1052976,0.1164287,0.1045471,0.1155228,0.1056936,0.1052724,0.1046746,0.105021,0.1077564,0.1055587,0.1073164,0.1391339,0.1321026,0.1338614,0.1332574,0.1282431,0.1319207,0.137923,0.1347357,0.1466763,0.135659,0.1333189,0.1421957,0.128054,0.1355173,0.1426114,0.1329324,0.1362081,0.1636558,0.151285,0.1760123,0.1713298,0.1651431,0.1661728,0.1694879,0.166372,0.1776878,0.1632866,0.1702195,0.1648122,0.1692445,0.1603193,0.1795712,0.1965339,0.1952588,0.1965749,0.1822214,0.1899971,0.1982479,0.1866003,0.19845,0.202953,0.1877193,0.2004559,0.207395,0.1856388,0.1943828,0.2014765,0.181297,0.1857038,0.1896717,0.2057738,0.1801866,0.1832724,0.2056677,0.2191176,0.223313,0.2232898,0.2338162,0.2261344,0.2102222,0.2255022,0.2229468,0.2318915,0.232095,0.2208263,0.2211645,0.2430927,0.2514257,0.2497463,0.2596984,0.2413044,0.2407072,0.2419227,0.2447223,0.2401627,0.2793536,0.2868808,0.2966902,0.2967999,0.3009952,0.3035724,0.3008639],\"type\":\"scatter3d\"}],                        {\"updatemenus\":[{\"buttons\":[{\"args\":[null,{\"frame\":{\"duration\":50,\"redraw\":true},\"transition\":{\"duration\":0},\"fromcurrent\":true,\"mode\":\"immediate\"}],\"label\":\"Play\",\"method\":\"animate\"}],\"pad\":{\"r\":10,\"t\":45},\"showactive\":false,\"type\":\"buttons\",\"x\":0.8,\"xanchor\":\"left\",\"y\":1,\"yanchor\":\"bottom\"}],\"template\":{\"data\":{\"bar\":[{\"error_x\":{\"color\":\"#2a3f5f\"},\"error_y\":{\"color\":\"#2a3f5f\"},\"marker\":{\"line\":{\"color\":\"#E5ECF6\",\"width\":0.5},\"pattern\":{\"fillmode\":\"overlay\",\"size\":10,\"solidity\":0.2}},\"type\":\"bar\"}],\"barpolar\":[{\"marker\":{\"line\":{\"color\":\"#E5ECF6\",\"width\":0.5},\"pattern\":{\"fillmode\":\"overlay\",\"size\":10,\"solidity\":0.2}},\"type\":\"barpolar\"}],\"carpet\":[{\"aaxis\":{\"endlinecolor\":\"#2a3f5f\",\"gridcolor\":\"white\",\"linecolor\":\"white\",\"minorgridcolor\":\"white\",\"startlinecolor\":\"#2a3f5f\"},\"baxis\":{\"endlinecolor\":\"#2a3f5f\",\"gridcolor\":\"white\",\"linecolor\":\"white\",\"minorgridcolor\":\"white\",\"startlinecolor\":\"#2a3f5f\"},\"type\":\"carpet\"}],\"choropleth\":[{\"colorbar\":{\"outlinewidth\":0,\"ticks\":\"\"},\"type\":\"choropleth\"}],\"contour\":[{\"colorbar\":{\"outlinewidth\":0,\"ticks\":\"\"},\"colorscale\":[[0.0,\"#0d0887\"],[0.1111111111111111,\"#46039f\"],[0.2222222222222222,\"#7201a8\"],[0.3333333333333333,\"#9c179e\"],[0.4444444444444444,\"#bd3786\"],[0.5555555555555556,\"#d8576b\"],[0.6666666666666666,\"#ed7953\"],[0.7777777777777778,\"#fb9f3a\"],[0.8888888888888888,\"#fdca26\"],[1.0,\"#f0f921\"]],\"type\":\"contour\"}],\"contourcarpet\":[{\"colorbar\":{\"outlinewidth\":0,\"ticks\":\"\"},\"type\":\"contourcarpet\"}],\"heatmap\":[{\"colorbar\":{\"outlinewidth\":0,\"ticks\":\"\"},\"colorscale\":[[0.0,\"#0d0887\"],[0.1111111111111111,\"#46039f\"],[0.2222222222222222,\"#7201a8\"],[0.3333333333333333,\"#9c179e\"],[0.4444444444444444,\"#bd3786\"],[0.5555555555555556,\"#d8576b\"],[0.6666666666666666,\"#ed7953\"],[0.7777777777777778,\"#fb9f3a\"],[0.8888888888888888,\"#fdca26\"],[1.0,\"#f0f921\"]],\"type\":\"heatmap\"}],\"heatmapgl\":[{\"colorbar\":{\"outlinewidth\":0,\"ticks\":\"\"},\"colorscale\":[[0.0,\"#0d0887\"],[0.1111111111111111,\"#46039f\"],[0.2222222222222222,\"#7201a8\"],[0.3333333333333333,\"#9c179e\"],[0.4444444444444444,\"#bd3786\"],[0.5555555555555556,\"#d8576b\"],[0.6666666666666666,\"#ed7953\"],[0.7777777777777778,\"#fb9f3a\"],[0.8888888888888888,\"#fdca26\"],[1.0,\"#f0f921\"]],\"type\":\"heatmapgl\"}],\"histogram\":[{\"marker\":{\"pattern\":{\"fillmode\":\"overlay\",\"size\":10,\"solidity\":0.2}},\"type\":\"histogram\"}],\"histogram2d\":[{\"colorbar\":{\"outlinewidth\":0,\"ticks\":\"\"},\"colorscale\":[[0.0,\"#0d0887\"],[0.1111111111111111,\"#46039f\"],[0.2222222222222222,\"#7201a8\"],[0.3333333333333333,\"#9c179e\"],[0.4444444444444444,\"#bd3786\"],[0.5555555555555556,\"#d8576b\"],[0.6666666666666666,\"#ed7953\"],[0.7777777777777778,\"#fb9f3a\"],[0.8888888888888888,\"#fdca26\"],[1.0,\"#f0f921\"]],\"type\":\"histogram2d\"}],\"histogram2dcontour\":[{\"colorbar\":{\"outlinewidth\":0,\"ticks\":\"\"},\"colorscale\":[[0.0,\"#0d0887\"],[0.1111111111111111,\"#46039f\"],[0.2222222222222222,\"#7201a8\"],[0.3333333333333333,\"#9c179e\"],[0.4444444444444444,\"#bd3786\"],[0.5555555555555556,\"#d8576b\"],[0.6666666666666666,\"#ed7953\"],[0.7777777777777778,\"#fb9f3a\"],[0.8888888888888888,\"#fdca26\"],[1.0,\"#f0f921\"]],\"type\":\"histogram2dcontour\"}],\"mesh3d\":[{\"colorbar\":{\"outlinewidth\":0,\"ticks\":\"\"},\"type\":\"mesh3d\"}],\"parcoords\":[{\"line\":{\"colorbar\":{\"outlinewidth\":0,\"ticks\":\"\"}},\"type\":\"parcoords\"}],\"pie\":[{\"automargin\":true,\"type\":\"pie\"}],\"scatter\":[{\"marker\":{\"colorbar\":{\"outlinewidth\":0,\"ticks\":\"\"}},\"type\":\"scatter\"}],\"scatter3d\":[{\"line\":{\"colorbar\":{\"outlinewidth\":0,\"ticks\":\"\"}},\"marker\":{\"colorbar\":{\"outlinewidth\":0,\"ticks\":\"\"}},\"type\":\"scatter3d\"}],\"scattercarpet\":[{\"marker\":{\"colorbar\":{\"outlinewidth\":0,\"ticks\":\"\"}},\"type\":\"scattercarpet\"}],\"scattergeo\":[{\"marker\":{\"colorbar\":{\"outlinewidth\":0,\"ticks\":\"\"}},\"type\":\"scattergeo\"}],\"scattergl\":[{\"marker\":{\"colorbar\":{\"outlinewidth\":0,\"ticks\":\"\"}},\"type\":\"scattergl\"}],\"scattermapbox\":[{\"marker\":{\"colorbar\":{\"outlinewidth\":0,\"ticks\":\"\"}},\"type\":\"scattermapbox\"}],\"scatterpolar\":[{\"marker\":{\"colorbar\":{\"outlinewidth\":0,\"ticks\":\"\"}},\"type\":\"scatterpolar\"}],\"scatterpolargl\":[{\"marker\":{\"colorbar\":{\"outlinewidth\":0,\"ticks\":\"\"}},\"type\":\"scatterpolargl\"}],\"scatterternary\":[{\"marker\":{\"colorbar\":{\"outlinewidth\":0,\"ticks\":\"\"}},\"type\":\"scatterternary\"}],\"surface\":[{\"colorbar\":{\"outlinewidth\":0,\"ticks\":\"\"},\"colorscale\":[[0.0,\"#0d0887\"],[0.1111111111111111,\"#46039f\"],[0.2222222222222222,\"#7201a8\"],[0.3333333333333333,\"#9c179e\"],[0.4444444444444444,\"#bd3786\"],[0.5555555555555556,\"#d8576b\"],[0.6666666666666666,\"#ed7953\"],[0.7777777777777778,\"#fb9f3a\"],[0.8888888888888888,\"#fdca26\"],[1.0,\"#f0f921\"]],\"type\":\"surface\"}],\"table\":[{\"cells\":{\"fill\":{\"color\":\"#EBF0F8\"},\"line\":{\"color\":\"white\"}},\"header\":{\"fill\":{\"color\":\"#C8D4E3\"},\"line\":{\"color\":\"white\"}},\"type\":\"table\"}]},\"layout\":{\"annotationdefaults\":{\"arrowcolor\":\"#2a3f5f\",\"arrowhead\":0,\"arrowwidth\":1},\"autotypenumbers\":\"strict\",\"coloraxis\":{\"colorbar\":{\"outlinewidth\":0,\"ticks\":\"\"}},\"colorscale\":{\"diverging\":[[0,\"#8e0152\"],[0.1,\"#c51b7d\"],[0.2,\"#de77ae\"],[0.3,\"#f1b6da\"],[0.4,\"#fde0ef\"],[0.5,\"#f7f7f7\"],[0.6,\"#e6f5d0\"],[0.7,\"#b8e186\"],[0.8,\"#7fbc41\"],[0.9,\"#4d9221\"],[1,\"#276419\"]],\"sequential\":[[0.0,\"#0d0887\"],[0.1111111111111111,\"#46039f\"],[0.2222222222222222,\"#7201a8\"],[0.3333333333333333,\"#9c179e\"],[0.4444444444444444,\"#bd3786\"],[0.5555555555555556,\"#d8576b\"],[0.6666666666666666,\"#ed7953\"],[0.7777777777777778,\"#fb9f3a\"],[0.8888888888888888,\"#fdca26\"],[1.0,\"#f0f921\"]],\"sequentialminus\":[[0.0,\"#0d0887\"],[0.1111111111111111,\"#46039f\"],[0.2222222222222222,\"#7201a8\"],[0.3333333333333333,\"#9c179e\"],[0.4444444444444444,\"#bd3786\"],[0.5555555555555556,\"#d8576b\"],[0.6666666666666666,\"#ed7953\"],[0.7777777777777778,\"#fb9f3a\"],[0.8888888888888888,\"#fdca26\"],[1.0,\"#f0f921\"]]},\"colorway\":[\"#636efa\",\"#EF553B\",\"#00cc96\",\"#ab63fa\",\"#FFA15A\",\"#19d3f3\",\"#FF6692\",\"#B6E880\",\"#FF97FF\",\"#FECB52\"],\"font\":{\"color\":\"#2a3f5f\"},\"geo\":{\"bgcolor\":\"white\",\"lakecolor\":\"white\",\"landcolor\":\"#E5ECF6\",\"showlakes\":true,\"showland\":true,\"subunitcolor\":\"white\"},\"hoverlabel\":{\"align\":\"left\"},\"hovermode\":\"closest\",\"mapbox\":{\"style\":\"light\"},\"paper_bgcolor\":\"white\",\"plot_bgcolor\":\"#E5ECF6\",\"polar\":{\"angularaxis\":{\"gridcolor\":\"white\",\"linecolor\":\"white\",\"ticks\":\"\"},\"bgcolor\":\"#E5ECF6\",\"radialaxis\":{\"gridcolor\":\"white\",\"linecolor\":\"white\",\"ticks\":\"\"}},\"scene\":{\"xaxis\":{\"backgroundcolor\":\"#E5ECF6\",\"gridcolor\":\"white\",\"gridwidth\":2,\"linecolor\":\"white\",\"showbackground\":true,\"ticks\":\"\",\"zerolinecolor\":\"white\"},\"yaxis\":{\"backgroundcolor\":\"#E5ECF6\",\"gridcolor\":\"white\",\"gridwidth\":2,\"linecolor\":\"white\",\"showbackground\":true,\"ticks\":\"\",\"zerolinecolor\":\"white\"},\"zaxis\":{\"backgroundcolor\":\"#E5ECF6\",\"gridcolor\":\"white\",\"gridwidth\":2,\"linecolor\":\"white\",\"showbackground\":true,\"ticks\":\"\",\"zerolinecolor\":\"white\"}},\"shapedefaults\":{\"line\":{\"color\":\"#2a3f5f\"}},\"ternary\":{\"aaxis\":{\"gridcolor\":\"white\",\"linecolor\":\"white\",\"ticks\":\"\"},\"baxis\":{\"gridcolor\":\"white\",\"linecolor\":\"white\",\"ticks\":\"\"},\"bgcolor\":\"#E5ECF6\",\"caxis\":{\"gridcolor\":\"white\",\"linecolor\":\"white\",\"ticks\":\"\"}},\"title\":{\"x\":0.05},\"xaxis\":{\"automargin\":true,\"gridcolor\":\"white\",\"linecolor\":\"white\",\"ticks\":\"\",\"title\":{\"standoff\":15},\"zerolinecolor\":\"white\",\"zerolinewidth\":2},\"yaxis\":{\"automargin\":true,\"gridcolor\":\"white\",\"linecolor\":\"white\",\"ticks\":\"\",\"title\":{\"standoff\":15},\"zerolinecolor\":\"white\",\"zerolinewidth\":2}}}},                        {\"responsive\": true}                    ).then(function(){\n",
              "                            Plotly.addFrames('b6fe9868-f9ad-406d-b7bb-b27d459e9afd', [{\"layout\":{\"scene\":{\"camera\":{\"eye\":{\"x\":1.25,\"y\":1.25,\"z\":0.8}}}}},{\"layout\":{\"scene\":{\"camera\":{\"eye\":{\"x\":1.3685469774060675,\"y\":1.1189634357889973,\"z\":0.8}}}}},{\"layout\":{\"scene\":{\"camera\":{\"eye\":{\"x\":1.4734198857953784,\"y\":0.9767465588077254,\"z\":0.8}}}}},{\"layout\":{\"scene\":{\"camera\":{\"eye\":{\"x\":1.5635708697336819,\"y\":0.824770353080333,\"z\":0.8}}}}},{\"layout\":{\"scene\":{\"camera\":{\"eye\":{\"x\":1.6380991703894194,\"y\":0.6645533146177932,\"z\":0.8}}}}},{\"layout\":{\"scene\":{\"camera\":{\"eye\":{\"x\":1.6962601256182197,\"y\":0.4976962791077122,\"z\":0.8}}}}},{\"layout\":{\"scene\":{\"camera\":{\"eye\":{\"x\":1.737472610380892,\"y\":0.32586642689330336,\"z\":0.8}}}}},{\"layout\":{\"scene\":{\"camera\":{\"eye\":{\"x\":1.7613248431527242,\"y\":0.15078062505849654,\"z\":0.8}}}}},{\"layout\":{\"scene\":{\"camera\":{\"eye\":{\"x\":1.7675785003083602,\"y\":-0.025811726940446755,\"z\":0.8}}}}},{\"layout\":{\"scene\":{\"camera\":{\"eye\":{\"x\":1.7561710973726847,\"y\":-0.20214617669602375,\"z\":0.8}}}}},{\"layout\":{\"scene\":{\"camera\":{\"eye\":{\"x\":1.7272166133450453,\"y\":-0.376460848674696,\"z\":0.8}}}}},{\"layout\":{\"scene\":{\"camera\":{\"eye\":{\"x\":1.6810043518587658,\"y\":-0.5470140482948226,\"z\":0.8}}}}},{\"layout\":{\"scene\":{\"camera\":{\"eye\":{\"x\":1.6179960505548747,\"y\":-0.7121016643631912,\"z\":0.8}}}}},{\"layout\":{\"scene\":{\"camera\":{\"eye\":{\"x\":1.5388212675522255,\"y\":-0.870074195990757,\"z\":0.8}}}}},{\"layout\":{\"scene\":{\"camera\":{\"eye\":{\"x\":1.4442710911108763,\"y\":-1.0193532338602744,\"z\":0.8}}}}},{\"layout\":{\"scene\":{\"camera\":{\"eye\":{\"x\":1.3352902353396967,\"y\":-1.1584472311704395,\"z\":0.8}}}}},{\"layout\":{\"scene\":{\"camera\":{\"eye\":{\"x\":1.2129676009252703,\"y\":-1.2859664066784924,\"z\":0.8}}}}},{\"layout\":{\"scene\":{\"camera\":{\"eye\":{\"x\":1.0785253951961797,\"y\":-1.4006366309349918,\"z\":0.8}}}}},{\"layout\":{\"scene\":{\"camera\":{\"eye\":{\"x\":0.9333069202313851,\"y\":-1.5013121569641028,\"z\":0.8}}}}},{\"layout\":{\"scene\":{\"camera\":{\"eye\":{\"x\":0.7787631510298885,\"y\":-1.5869870681886475,\"z\":0.8}}}}},{\"layout\":{\"scene\":{\"camera\":{\"eye\":{\"x\":0.6164382378481742,\"y\":-1.6568053292160303,\"z\":0.8}}}}},{\"layout\":{\"scene\":{\"camera\":{\"eye\":{\"x\":0.44795407756127026,\"y\":-1.710069339060914,\"z\":0.8}}}}},{\"layout\":{\"scene\":{\"camera\":{\"eye\":{\"x\":0.27499410820530534,\"y\":-1.7462469013436699,\"z\":0.8}}}}},{\"layout\":{\"scene\":{\"camera\":{\"eye\":{\"x\":0.09928648862111944,\"y\":-1.7649765418206806,\"z\":0.8}}}}},{\"layout\":{\"scene\":{\"camera\":{\"eye\":{\"x\":-0.07741316873761894,\"y\":-1.7660711201154955,\"z\":0.8}}}}},{\"layout\":{\"scene\":{\"camera\":{\"eye\":{\"x\":-0.25333933930372143,\"y\":-1.7495196995636126,\"z\":0.8}}}}},{\"layout\":{\"scene\":{\"camera\":{\"eye\":{\"x\":-0.4267342269343539,\"y\":-1.7154876564880144,\"z\":0.8}}}}},{\"layout\":{\"scene\":{\"camera\":{\"eye\":{\"x\":-0.5958653272290393,\"y\":-1.6643150278136138,\"z\":0.8}}}}},{\"layout\":{\"scene\":{\"camera\":{\"eye\":{\"x\":-0.7590427381409421,\"y\":-1.5965131135307038,\"z\":0.8}}}}},{\"layout\":{\"scene\":{\"camera\":{\"eye\":{\"x\":-0.9146360449195108,\"y\":-1.5127593679544658,\"z\":0.8}}}}},{\"layout\":{\"scene\":{\"camera\":{\"eye\":{\"x\":-1.0610906106757227,\"y\":-1.4138906308253907,\"z\":0.8}}}}},{\"layout\":{\"scene\":{\"camera\":{\"eye\":{\"x\":-1.196943109799986,\"y\":-1.3008947658832124,\"z\":0.8}}}}},{\"layout\":{\"scene\":{\"camera\":{\"eye\":{\"x\":-1.3208361490279166,\"y\":-1.1749007904589663,\"z\":0.8}}}}},{\"layout\":{\"scene\":{\"camera\":{\"eye\":{\"x\":-1.431531830065142,\"y\":-1.0371675947070202,\"z\":0.8}}}}},{\"layout\":{\"scene\":{\"camera\":{\"eye\":{\"x\":-1.5279241182578656,\"y\":-0.8890713631907865,\"z\":0.8}}}}},{\"layout\":{\"scene\":{\"camera\":{\"eye\":{\"x\":-1.6090498937255202,\"y\":-0.7320918245014705,\"z\":0.8}}}}},{\"layout\":{\"scene\":{\"camera\":{\"eye\":{\"x\":-1.6740985745362496,\"y\":-0.5677974662991182,\"z\":0.8}}}}},{\"layout\":{\"scene\":{\"camera\":{\"eye\":{\"x\":-1.7224202157736266,\"y\":-0.39782986350239324,\"z\":0.8}}}}},{\"layout\":{\"scene\":{\"camera\":{\"eye\":{\"x\":-1.7535320035714197,\"y\":-0.22388727621462157,\"z\":0.8}}}}},{\"layout\":{\"scene\":{\"camera\":{\"eye\":{\"x\":-1.7671230792301427,\"y\":-0.04770768127020719,\"z\":0.8}}}}},{\"layout\":{\"scene\":{\"camera\":{\"eye\":{\"x\":-1.7630576452144253,\"y\":0.1289485930553954,\"z\":0.8}}}}},{\"layout\":{\"scene\":{\"camera\":{\"eye\":{\"x\":-1.741376321997099,\"y\":0.30431645566392784,\"z\":0.8}}}}},{\"layout\":{\"scene\":{\"camera\":{\"eye\":{\"x\":-1.7022957421928595,\"y\":0.47664368884111097,\"z\":0.8}}}}},{\"layout\":{\"scene\":{\"camera\":{\"eye\":{\"x\":-1.646206386036788,\"y\":0.6442084558368493,\"z\":0.8}}}}},{\"layout\":{\"scene\":{\"camera\":{\"eye\":{\"x\":-1.573668679834919,\"y\":0.8053365048888708,\"z\":0.8}}}}},{\"layout\":{\"scene\":{\"camera\":{\"eye\":{\"x\":-1.4854073963698458,\"y\":0.9584178977928967,\"z\":0.8}}}}},{\"layout\":{\"scene\":{\"camera\":{\"eye\":{\"x\":-1.3823044132106481,\"y\":1.101923095873013,\"z\":0.8}}}}},{\"layout\":{\"scene\":{\"camera\":{\"eye\":{\"x\":-1.2653899012837393,\"y\":1.2344182426265127,\"z\":0.8}}}}},{\"layout\":{\"scene\":{\"camera\":{\"eye\":{\"x\":-1.1358320317454915,\"y\":1.3545794903441097,\"z\":0.8}}}}},{\"layout\":{\"scene\":{\"camera\":{\"eye\":{\"x\":-0.9949253040021958,\"y\":1.4612062275586353,\"z\":0.8}}}}},{\"layout\":{\"scene\":{\"camera\":{\"eye\":{\"x\":-0.8440776114998902,\"y\":1.553233075157956,\"z\":0.8}}}}},{\"layout\":{\"scene\":{\"camera\":{\"eye\":{\"x\":-0.6847961745184389,\"y\":1.6297405313008917,\"z\":0.8}}}}},{\"layout\":{\"scene\":{\"camera\":{\"eye\":{\"x\":-0.5186724805247199,\"y\":1.6899641587756626,\"z\":0.8}}}}},{\"layout\":{\"scene\":{\"camera\":{\"eye\":{\"x\":-0.347366382555924,\"y\":1.733302223003828,\"z\":0.8}}}}},{\"layout\":{\"scene\":{\"camera\":{\"eye\":{\"x\":-0.17258951451669058,\"y\":1.7593217043732774,\"z\":0.8}}}}},{\"layout\":{\"scene\":{\"camera\":{\"eye\":{\"x\":0.0039118109010850555,\"y\":1.767762624827065,\"z\":0.8}}}}},{\"layout\":{\"scene\":{\"camera\":{\"eye\":{\"x\":0.18037405079741164,\"y\":1.7585406454782138,\"z\":0.8}}}}},{\"layout\":{\"scene\":{\"camera\":{\"eye\":{\"x\":0.3550340528019027,\"y\":1.7317479092959966,\"z\":0.8}}}}},{\"layout\":{\"scene\":{\"camera\":{\"eye\":{\"x\":0.5261466719094534,\"y\":1.6876521204438448,\"z\":0.8}}}}},{\"layout\":{\"scene\":{\"camera\":{\"eye\":{\"x\":0.6920022073922499,\"y\":1.62669386946784,\"z\":0.8}}}}},{\"layout\":{\"scene\":{\"camera\":{\"eye\":{\"x\":0.8509434855643001,\"y\":1.5494822310616148,\"z\":0.8}}}}},{\"layout\":{\"scene\":{\"camera\":{\"eye\":{\"x\":1.001382417713112,\"y\":1.4567886783933495,\"z\":0.8}}}}},{\"layout\":{\"scene\":{\"camera\":{\"eye\":{\"x\":1.1418158677571515,\"y\":1.3495393748008924,\"z\":0.8}}}}},{\"layout\":{\"scene\":{\"camera\":{\"eye\":{\"x\":1.270840671084707,\"y\":1.2288059198738308,\"z\":0.8}}}}},{\"layout\":{\"scene\":{\"camera\":{\"eye\":{\"x\":1.3871676545108578,\"y\":1.0957946423846239,\"z\":0.8}}}}},{\"layout\":{\"scene\":{\"camera\":{\"eye\":{\"x\":1.4896345172697987,\"y\":0.9518345470502599,\"z\":0.8}}}}},{\"layout\":{\"scene\":{\"camera\":{\"eye\":{\"x\":1.577217444339885,\"y\":0.7983640355564382,\"z\":0.8}}}}},{\"layout\":{\"scene\":{\"camera\":{\"eye\":{\"x\":1.6490413360648972,\"y\":0.6369165345234014,\"z\":0.8}}}}},{\"layout\":{\"scene\":{\"camera\":{\"eye\":{\"x\":1.7043885518605422,\"y\":0.46910517401401974,\"z\":0.8}}}}},{\"layout\":{\"scene\":{\"camera\":{\"eye\":{\"x\":1.742706080641946,\"y\":0.2966066696714459,\"z\":0.8}}}}},{\"layout\":{\"scene\":{\"camera\":{\"eye\":{\"x\":1.7636110663276172,\"y\":0.12114456953064445,\"z\":0.8}}}}},{\"layout\":{\"scene\":{\"camera\":{\"eye\":{\"x\":1.766894633210853,\"y\":-0.05552796710383823,\"z\":0.8}}}}},{\"layout\":{\"scene\":{\"camera\":{\"eye\":{\"x\":1.7525239729767597,\"y\":-0.23164568664612328,\"z\":0.8}}}}},{\"layout\":{\"scene\":{\"camera\":{\"eye\":{\"x\":1.7206426725120867,\"y\":-0.4054488790593255,\"z\":0.8}}}}},{\"layout\":{\"scene\":{\"camera\":{\"eye\":{\"x\":1.6715692792325216,\"y\":-0.5752009602965458,\"z\":0.8}}}}},{\"layout\":{\"scene\":{\"camera\":{\"eye\":{\"x\":1.605794118262206,\"y\":-0.7392058236746413,\"z\":0.8}}}}},{\"layout\":{\"scene\":{\"camera\":{\"eye\":{\"x\":1.5239743932671765,\"y\":-0.8958247868115395,\"z\":0.8}}}}},{\"layout\":{\"scene\":{\"camera\":{\"eye\":{\"x\":1.426927619893581,\"y\":-1.04349296479892,\"z\":0.8}}}}},{\"layout\":{\"scene\":{\"camera\":{\"eye\":{\"x\":1.3156234574215673,\"y\":-1.180734906014945,\"z\":0.8}}}}},{\"layout\":{\"scene\":{\"camera\":{\"eye\":{\"x\":1.1911740202502938,\"y\":-1.3061793343491364,\"z\":0.8}}}}},{\"layout\":{\"scene\":{\"camera\":{\"eye\":{\"x\":1.0548227660184604,\"y\":-1.4185728505399942,\"z\":0.8}}}}},{\"layout\":{\"scene\":{\"camera\":{\"eye\":{\"x\":0.9079320713866189,\"y\":-1.5167924557260966,\"z\":0.8}}}}},{\"layout\":{\"scene\":{\"camera\":{\"eye\":{\"x\":0.7519696196199205,\"y\":-1.599856772079511,\"z\":0.8}}}}},{\"layout\":{\"scene\":{\"camera\":{\"eye\":{\"x\":0.5884937359820905,\"y\":-1.6669358484086425,\"z\":0.8}}}}},{\"layout\":{\"scene\":{\"camera\":{\"eye\":{\"x\":0.41913781746449363,\"y\":-1.7173594527562077,\"z\":0.8}}}}},{\"layout\":{\"scene\":{\"camera\":{\"eye\":{\"x\":0.24559401242333323,\"y\":-1.7506237691353923,\"z\":0.8}}}}},{\"layout\":{\"scene\":{\"camera\":{\"eye\":{\"x\":0.06959631319262605,\"y\":-1.7663964314926572,\"z\":0.8}}}}},{\"layout\":{\"scene\":{\"camera\":{\"eye\":{\"x\":-0.10709676939402235,\"y\":-1.7645198445994774,\"z\":0.8}}}}},{\"layout\":{\"scene\":{\"camera\":{\"eye\":{\"x\":-0.2827197764623679,\"y\":-1.745012758691772,\"z\":0.8}}}}},{\"layout\":{\"scene\":{\"camera\":{\"eye\":{\"x\":-0.45551794097903464,\"y\":-1.7080700821237462,\"z\":0.8}}}}},{\"layout\":{\"scene\":{\"camera\":{\"eye\":{\"x\":-0.6237647208036504,\"y\":-1.6540609339080419,\"z\":0.8}}}}},{\"layout\":{\"scene\":{\"camera\":{\"eye\":{\"x\":-0.7857790497271997,\"y\":-1.58352495560058,\"z\":0.8}}}}},{\"layout\":{\"scene\":{\"camera\":{\"eye\":{\"x\":-0.9399421341298975,\"y\":-1.4971669193805124,\"z\":0.8}}}}},{\"layout\":{\"scene\":{\"camera\":{\"eye\":{\"x\":-1.0847136274319271,\"y\":-1.3958496861995813,\"z\":0.8}}}}},{\"layout\":{\"scene\":{\"camera\":{\"eye\":{\"x\":-1.218647020727311,\"y\":-1.2805855843607052,\"z\":0.8}}}}},{\"layout\":{\"scene\":{\"camera\":{\"eye\":{\"x\":-1.3404040958227346,\"y\":-1.1525262946682115,\"z\":0.8}}}}},{\"layout\":{\"scene\":{\"camera\":{\"eye\":{\"x\":-1.448768296271385,\"y\":-1.0129513432139317,\"z\":0.8}}}}},{\"layout\":{\"scene\":{\"camera\":{\"eye\":{\"x\":-1.5426568828028173,\"y\":-0.8632553167754569,\"z\":0.8}}}}},{\"layout\":{\"scene\":{\"camera\":{\"eye\":{\"x\":-1.6211317516958519,\"y\":-0.7049339285660311,\"z\":0.8}}}}},{\"layout\":{\"scene\":{\"camera\":{\"eye\":{\"x\":-1.6834088080008527,\"y\":-0.5395690735625494,\"z\":0.8}}}}},{\"layout\":{\"scene\":{\"camera\":{\"eye\":{\"x\":-1.7288657999572776,\"y\":-0.3688130227338533,\"z\":0.8}}}}},{\"layout\":{\"scene\":{\"camera\":{\"eye\":{\"x\":-1.7570485363275825,\"y\":-0.1943719140953739,\"z\":0.8}}}}},{\"layout\":{\"scene\":{\"camera\":{\"eye\":{\"x\":-1.7676754245259283,\"y\":-0.017988705542069106,\"z\":0.8}}}}}]);\n",
              "                        }).then(function(){\n",
              "                            \n",
              "var gd = document.getElementById('b6fe9868-f9ad-406d-b7bb-b27d459e9afd');\n",
              "var x = new MutationObserver(function (mutations, observer) {{\n",
              "        var display = window.getComputedStyle(gd).display;\n",
              "        if (!display || display === 'none') {{\n",
              "            console.log([gd, 'removed!']);\n",
              "            Plotly.purge(gd);\n",
              "            observer.disconnect();\n",
              "        }}\n",
              "}});\n",
              "\n",
              "// Listen for the removal of the full notebook cells\n",
              "var notebookContainer = gd.closest('#notebook-container');\n",
              "if (notebookContainer) {{\n",
              "    x.observe(notebookContainer, {childList: true});\n",
              "}}\n",
              "\n",
              "// Listen for the clearing of the current output cell\n",
              "var outputEl = gd.closest('.output');\n",
              "if (outputEl) {{\n",
              "    x.observe(outputEl, {childList: true});\n",
              "}}\n",
              "\n",
              "                        })                };                            </script>        </div>\n",
              "</body>\n",
              "</html>"
            ]
          },
          "metadata": {}
        }
      ]
    },
    {
      "cell_type": "code",
      "source": [
        "def pcshow(xs,ys,zs):\n",
        "    data=[go.Scatter3d(x=xs, y=ys, z=zs,\n",
        "                                   mode='markers')]\n",
        "    fig = visualize_rotate(data)\n",
        "    fig.update_traces(marker=dict(size=2,\n",
        "                      line=dict(width=2,\n",
        "                      color='DarkSlateGrey')),\n",
        "                      selector=dict(mode='markers'))\n",
        "    fig.show()"
      ],
      "metadata": {
        "id": "XyWjwAxACBGm"
      },
      "execution_count": 126,
      "outputs": []
    },
    {
      "cell_type": "code",
      "source": [
        "pcshow(x,y,z)"
      ],
      "metadata": {
        "id": "_z-BkmwgCEbP",
        "colab": {
          "base_uri": "https://localhost:8080/",
          "height": 542
        },
        "outputId": "4c6424a7-697d-4f55-a8c2-3ac9a5473dbe"
      },
      "execution_count": 127,
      "outputs": [
        {
          "output_type": "display_data",
          "data": {
            "text/html": [
              "<html>\n",
              "<head><meta charset=\"utf-8\" /></head>\n",
              "<body>\n",
              "    <div>            <script src=\"https://cdnjs.cloudflare.com/ajax/libs/mathjax/2.7.5/MathJax.js?config=TeX-AMS-MML_SVG\"></script><script type=\"text/javascript\">if (window.MathJax) {MathJax.Hub.Config({SVG: {font: \"STIX-Web\"}});}</script>                <script type=\"text/javascript\">window.PlotlyConfig = {MathJaxConfig: 'local'};</script>\n",
              "        <script src=\"https://cdn.plot.ly/plotly-2.8.3.min.js\"></script>                <div id=\"693dc5d8-4d0c-4fac-bb90-60a34dd5d228\" class=\"plotly-graph-div\" style=\"height:525px; width:100%;\"></div>            <script type=\"text/javascript\">                                    window.PLOTLYENV=window.PLOTLYENV || {};                                    if (document.getElementById(\"693dc5d8-4d0c-4fac-bb90-60a34dd5d228\")) {                    Plotly.newPlot(                        \"693dc5d8-4d0c-4fac-bb90-60a34dd5d228\",                        [{\"mode\":\"markers\",\"x\":[0.6853969,0.6948417,0.6747401,0.6953723,0.6708598,0.6947579,0.6693603,0.6935498,0.6714429,0.6945435,0.6845003,0.7007778,0.7000398,0.6741586,0.6737631,0.6770542,0.6696538,0.6593679,0.667218,0.6709606,0.6820128,0.6928854,0.7057721,0.7207305,0.6588005,0.6656612,0.6597336,0.6717985,0.7033145,0.6802772,0.6920558,0.6704836,0.6685731,0.6739292,0.6830871,0.6954175,0.7119536,0.7264414,0.6534927,0.6614141,0.6565314,0.6660108,0.7068169,0.6846535,0.6980218,0.6780047,0.6909819,0.6764747,0.6808434,0.6925712,0.6880268,0.7025679,0.7225276,0.716436,0.7313731,0.6475372,0.661114,0.6989219,0.6872466,0.7007518,0.6832285,0.6925624,0.6815048,0.6928827,0.6872256,0.6975977,0.7071502,0.727835,0.7359769,0.7528945,0.685662,0.6928017,0.6833036,0.7085384,0.7334068,0.7589403,0.7083521,0.7365181,0.7612661,0.7078818,0.7331311,0.7587062,0.7089837,0.734433,0.7591651,0.7161508,0.7371833,0.7627667,0.82043,0.7366081,0.7600899,0.8185468,0.6839905,0.6928931,0.6836925,0.690586,0.7415035,0.7723116,0.7416432,0.7527705,0.7572458,0.8071502,0.8156134,0.8160186,0.6899766,0.6989074,0.6868985,0.6968822,0.7498277,0.7469826,0.7521093,0.8027638,0.811582,0.7082274,0.7102836,0.7258015,0.728944,0.7150348,0.7346976,0.7228634],\"y\":[-0.06664259,-0.07107066,-0.04014732,-0.03203694,-0.01505732,-0.01835149,0.01723205,0.01405475,0.04140766,0.04051334,0.07191507,0.08144437,0.09288698,-0.09380889,-0.07596024,-0.04396599,-0.01453746,0.008425413,0.0170473,0.0425396,0.06863477,0.08220058,0.09811954,0.1097083,-0.09327701,-0.0956745,-0.08225261,-0.07218704,-0.06981327,-0.04493995,-0.05224321,-0.01550779,0.0163941,0.04409165,0.0669264,0.08041491,0.09801666,0.1064596,-0.1018938,-0.09322609,-0.08585123,-0.08385243,-0.06801338,-0.04078661,-0.04921345,-0.01484727,-0.02476267,0.01520017,0.04402588,0.05421196,0.06416464,0.07693675,0.08796679,0.09377932,0.1001297,-0.1084885,-0.09412111,-0.06260405,-0.03393011,-0.04641844,-0.01248629,-0.02010286,0.01457917,0.01483462,0.04058186,0.04907438,0.0698282,0.08419503,0.09395941,0.09435278,-0.06605971,-0.0695625,-0.0577896,-0.04370702,-0.04241177,-0.03465874,-0.0148299,-0.01487024,-0.02044285,0.01457388,0.01260596,0.0260814,0.04195308,0.04533998,0.04284168,0.06451874,0.07079744,0.07406218,0.08290125,0.09187823,0.09179842,0.09249382,-0.0643881,-0.06916945,-0.05278819,-0.05096363,-0.006404084,-0.009773714,0.01257068,0.02365416,0.03187082,0.08111924,0.08218026,0.09253833,-0.06094396,-0.06321937,-0.04716922,-0.04716875,-0.001205908,0.01158994,0.01439761,0.07591046,0.09006518,-0.04075233,-0.01867285,-0.01457392,0.005592557,-0.009675107,-0.01048701,0.002677139],\"z\":[0.05975596,0.05362324,0.05254727,0.03221772,0.05138361,0.03423198,0.04809496,0.03523713,0.05035923,0.03322319,0.05225725,0.04922689,0.05152554,0.08216877,0.07787058,0.07671795,0.07558981,0.06227206,0.07571149,0.07510886,0.07533178,0.07544253,0.07621501,0.08498205,0.1167062,0.1023918,0.1122849,0.1052976,0.1164287,0.1045471,0.1155228,0.1056936,0.1052724,0.1046746,0.105021,0.1077564,0.1055587,0.1073164,0.1391339,0.1321026,0.1338614,0.1332574,0.1282431,0.1319207,0.137923,0.1347357,0.1466763,0.135659,0.1333189,0.1421957,0.128054,0.1355173,0.1426114,0.1329324,0.1362081,0.1636558,0.151285,0.1760123,0.1713298,0.1651431,0.1661728,0.1694879,0.166372,0.1776878,0.1632866,0.1702195,0.1648122,0.1692445,0.1603193,0.1795712,0.1965339,0.1952588,0.1965749,0.1822214,0.1899971,0.1982479,0.1866003,0.19845,0.202953,0.1877193,0.2004559,0.207395,0.1856388,0.1943828,0.2014765,0.181297,0.1857038,0.1896717,0.2057738,0.1801866,0.1832724,0.2056677,0.2191176,0.223313,0.2232898,0.2338162,0.2261344,0.2102222,0.2255022,0.2229468,0.2318915,0.232095,0.2208263,0.2211645,0.2430927,0.2514257,0.2497463,0.2596984,0.2413044,0.2407072,0.2419227,0.2447223,0.2401627,0.2793536,0.2868808,0.2966902,0.2967999,0.3009952,0.3035724,0.3008639],\"type\":\"scatter3d\",\"marker\":{\"line\":{\"color\":\"DarkSlateGrey\",\"width\":2},\"size\":2}}],                        {\"updatemenus\":[{\"buttons\":[{\"args\":[null,{\"frame\":{\"duration\":50,\"redraw\":true},\"transition\":{\"duration\":0},\"fromcurrent\":true,\"mode\":\"immediate\"}],\"label\":\"Play\",\"method\":\"animate\"}],\"pad\":{\"r\":10,\"t\":45},\"showactive\":false,\"type\":\"buttons\",\"x\":0.8,\"xanchor\":\"left\",\"y\":1,\"yanchor\":\"bottom\"}],\"template\":{\"data\":{\"bar\":[{\"error_x\":{\"color\":\"#2a3f5f\"},\"error_y\":{\"color\":\"#2a3f5f\"},\"marker\":{\"line\":{\"color\":\"#E5ECF6\",\"width\":0.5},\"pattern\":{\"fillmode\":\"overlay\",\"size\":10,\"solidity\":0.2}},\"type\":\"bar\"}],\"barpolar\":[{\"marker\":{\"line\":{\"color\":\"#E5ECF6\",\"width\":0.5},\"pattern\":{\"fillmode\":\"overlay\",\"size\":10,\"solidity\":0.2}},\"type\":\"barpolar\"}],\"carpet\":[{\"aaxis\":{\"endlinecolor\":\"#2a3f5f\",\"gridcolor\":\"white\",\"linecolor\":\"white\",\"minorgridcolor\":\"white\",\"startlinecolor\":\"#2a3f5f\"},\"baxis\":{\"endlinecolor\":\"#2a3f5f\",\"gridcolor\":\"white\",\"linecolor\":\"white\",\"minorgridcolor\":\"white\",\"startlinecolor\":\"#2a3f5f\"},\"type\":\"carpet\"}],\"choropleth\":[{\"colorbar\":{\"outlinewidth\":0,\"ticks\":\"\"},\"type\":\"choropleth\"}],\"contour\":[{\"colorbar\":{\"outlinewidth\":0,\"ticks\":\"\"},\"colorscale\":[[0.0,\"#0d0887\"],[0.1111111111111111,\"#46039f\"],[0.2222222222222222,\"#7201a8\"],[0.3333333333333333,\"#9c179e\"],[0.4444444444444444,\"#bd3786\"],[0.5555555555555556,\"#d8576b\"],[0.6666666666666666,\"#ed7953\"],[0.7777777777777778,\"#fb9f3a\"],[0.8888888888888888,\"#fdca26\"],[1.0,\"#f0f921\"]],\"type\":\"contour\"}],\"contourcarpet\":[{\"colorbar\":{\"outlinewidth\":0,\"ticks\":\"\"},\"type\":\"contourcarpet\"}],\"heatmap\":[{\"colorbar\":{\"outlinewidth\":0,\"ticks\":\"\"},\"colorscale\":[[0.0,\"#0d0887\"],[0.1111111111111111,\"#46039f\"],[0.2222222222222222,\"#7201a8\"],[0.3333333333333333,\"#9c179e\"],[0.4444444444444444,\"#bd3786\"],[0.5555555555555556,\"#d8576b\"],[0.6666666666666666,\"#ed7953\"],[0.7777777777777778,\"#fb9f3a\"],[0.8888888888888888,\"#fdca26\"],[1.0,\"#f0f921\"]],\"type\":\"heatmap\"}],\"heatmapgl\":[{\"colorbar\":{\"outlinewidth\":0,\"ticks\":\"\"},\"colorscale\":[[0.0,\"#0d0887\"],[0.1111111111111111,\"#46039f\"],[0.2222222222222222,\"#7201a8\"],[0.3333333333333333,\"#9c179e\"],[0.4444444444444444,\"#bd3786\"],[0.5555555555555556,\"#d8576b\"],[0.6666666666666666,\"#ed7953\"],[0.7777777777777778,\"#fb9f3a\"],[0.8888888888888888,\"#fdca26\"],[1.0,\"#f0f921\"]],\"type\":\"heatmapgl\"}],\"histogram\":[{\"marker\":{\"pattern\":{\"fillmode\":\"overlay\",\"size\":10,\"solidity\":0.2}},\"type\":\"histogram\"}],\"histogram2d\":[{\"colorbar\":{\"outlinewidth\":0,\"ticks\":\"\"},\"colorscale\":[[0.0,\"#0d0887\"],[0.1111111111111111,\"#46039f\"],[0.2222222222222222,\"#7201a8\"],[0.3333333333333333,\"#9c179e\"],[0.4444444444444444,\"#bd3786\"],[0.5555555555555556,\"#d8576b\"],[0.6666666666666666,\"#ed7953\"],[0.7777777777777778,\"#fb9f3a\"],[0.8888888888888888,\"#fdca26\"],[1.0,\"#f0f921\"]],\"type\":\"histogram2d\"}],\"histogram2dcontour\":[{\"colorbar\":{\"outlinewidth\":0,\"ticks\":\"\"},\"colorscale\":[[0.0,\"#0d0887\"],[0.1111111111111111,\"#46039f\"],[0.2222222222222222,\"#7201a8\"],[0.3333333333333333,\"#9c179e\"],[0.4444444444444444,\"#bd3786\"],[0.5555555555555556,\"#d8576b\"],[0.6666666666666666,\"#ed7953\"],[0.7777777777777778,\"#fb9f3a\"],[0.8888888888888888,\"#fdca26\"],[1.0,\"#f0f921\"]],\"type\":\"histogram2dcontour\"}],\"mesh3d\":[{\"colorbar\":{\"outlinewidth\":0,\"ticks\":\"\"},\"type\":\"mesh3d\"}],\"parcoords\":[{\"line\":{\"colorbar\":{\"outlinewidth\":0,\"ticks\":\"\"}},\"type\":\"parcoords\"}],\"pie\":[{\"automargin\":true,\"type\":\"pie\"}],\"scatter\":[{\"marker\":{\"colorbar\":{\"outlinewidth\":0,\"ticks\":\"\"}},\"type\":\"scatter\"}],\"scatter3d\":[{\"line\":{\"colorbar\":{\"outlinewidth\":0,\"ticks\":\"\"}},\"marker\":{\"colorbar\":{\"outlinewidth\":0,\"ticks\":\"\"}},\"type\":\"scatter3d\"}],\"scattercarpet\":[{\"marker\":{\"colorbar\":{\"outlinewidth\":0,\"ticks\":\"\"}},\"type\":\"scattercarpet\"}],\"scattergeo\":[{\"marker\":{\"colorbar\":{\"outlinewidth\":0,\"ticks\":\"\"}},\"type\":\"scattergeo\"}],\"scattergl\":[{\"marker\":{\"colorbar\":{\"outlinewidth\":0,\"ticks\":\"\"}},\"type\":\"scattergl\"}],\"scattermapbox\":[{\"marker\":{\"colorbar\":{\"outlinewidth\":0,\"ticks\":\"\"}},\"type\":\"scattermapbox\"}],\"scatterpolar\":[{\"marker\":{\"colorbar\":{\"outlinewidth\":0,\"ticks\":\"\"}},\"type\":\"scatterpolar\"}],\"scatterpolargl\":[{\"marker\":{\"colorbar\":{\"outlinewidth\":0,\"ticks\":\"\"}},\"type\":\"scatterpolargl\"}],\"scatterternary\":[{\"marker\":{\"colorbar\":{\"outlinewidth\":0,\"ticks\":\"\"}},\"type\":\"scatterternary\"}],\"surface\":[{\"colorbar\":{\"outlinewidth\":0,\"ticks\":\"\"},\"colorscale\":[[0.0,\"#0d0887\"],[0.1111111111111111,\"#46039f\"],[0.2222222222222222,\"#7201a8\"],[0.3333333333333333,\"#9c179e\"],[0.4444444444444444,\"#bd3786\"],[0.5555555555555556,\"#d8576b\"],[0.6666666666666666,\"#ed7953\"],[0.7777777777777778,\"#fb9f3a\"],[0.8888888888888888,\"#fdca26\"],[1.0,\"#f0f921\"]],\"type\":\"surface\"}],\"table\":[{\"cells\":{\"fill\":{\"color\":\"#EBF0F8\"},\"line\":{\"color\":\"white\"}},\"header\":{\"fill\":{\"color\":\"#C8D4E3\"},\"line\":{\"color\":\"white\"}},\"type\":\"table\"}]},\"layout\":{\"annotationdefaults\":{\"arrowcolor\":\"#2a3f5f\",\"arrowhead\":0,\"arrowwidth\":1},\"autotypenumbers\":\"strict\",\"coloraxis\":{\"colorbar\":{\"outlinewidth\":0,\"ticks\":\"\"}},\"colorscale\":{\"diverging\":[[0,\"#8e0152\"],[0.1,\"#c51b7d\"],[0.2,\"#de77ae\"],[0.3,\"#f1b6da\"],[0.4,\"#fde0ef\"],[0.5,\"#f7f7f7\"],[0.6,\"#e6f5d0\"],[0.7,\"#b8e186\"],[0.8,\"#7fbc41\"],[0.9,\"#4d9221\"],[1,\"#276419\"]],\"sequential\":[[0.0,\"#0d0887\"],[0.1111111111111111,\"#46039f\"],[0.2222222222222222,\"#7201a8\"],[0.3333333333333333,\"#9c179e\"],[0.4444444444444444,\"#bd3786\"],[0.5555555555555556,\"#d8576b\"],[0.6666666666666666,\"#ed7953\"],[0.7777777777777778,\"#fb9f3a\"],[0.8888888888888888,\"#fdca26\"],[1.0,\"#f0f921\"]],\"sequentialminus\":[[0.0,\"#0d0887\"],[0.1111111111111111,\"#46039f\"],[0.2222222222222222,\"#7201a8\"],[0.3333333333333333,\"#9c179e\"],[0.4444444444444444,\"#bd3786\"],[0.5555555555555556,\"#d8576b\"],[0.6666666666666666,\"#ed7953\"],[0.7777777777777778,\"#fb9f3a\"],[0.8888888888888888,\"#fdca26\"],[1.0,\"#f0f921\"]]},\"colorway\":[\"#636efa\",\"#EF553B\",\"#00cc96\",\"#ab63fa\",\"#FFA15A\",\"#19d3f3\",\"#FF6692\",\"#B6E880\",\"#FF97FF\",\"#FECB52\"],\"font\":{\"color\":\"#2a3f5f\"},\"geo\":{\"bgcolor\":\"white\",\"lakecolor\":\"white\",\"landcolor\":\"#E5ECF6\",\"showlakes\":true,\"showland\":true,\"subunitcolor\":\"white\"},\"hoverlabel\":{\"align\":\"left\"},\"hovermode\":\"closest\",\"mapbox\":{\"style\":\"light\"},\"paper_bgcolor\":\"white\",\"plot_bgcolor\":\"#E5ECF6\",\"polar\":{\"angularaxis\":{\"gridcolor\":\"white\",\"linecolor\":\"white\",\"ticks\":\"\"},\"bgcolor\":\"#E5ECF6\",\"radialaxis\":{\"gridcolor\":\"white\",\"linecolor\":\"white\",\"ticks\":\"\"}},\"scene\":{\"xaxis\":{\"backgroundcolor\":\"#E5ECF6\",\"gridcolor\":\"white\",\"gridwidth\":2,\"linecolor\":\"white\",\"showbackground\":true,\"ticks\":\"\",\"zerolinecolor\":\"white\"},\"yaxis\":{\"backgroundcolor\":\"#E5ECF6\",\"gridcolor\":\"white\",\"gridwidth\":2,\"linecolor\":\"white\",\"showbackground\":true,\"ticks\":\"\",\"zerolinecolor\":\"white\"},\"zaxis\":{\"backgroundcolor\":\"#E5ECF6\",\"gridcolor\":\"white\",\"gridwidth\":2,\"linecolor\":\"white\",\"showbackground\":true,\"ticks\":\"\",\"zerolinecolor\":\"white\"}},\"shapedefaults\":{\"line\":{\"color\":\"#2a3f5f\"}},\"ternary\":{\"aaxis\":{\"gridcolor\":\"white\",\"linecolor\":\"white\",\"ticks\":\"\"},\"baxis\":{\"gridcolor\":\"white\",\"linecolor\":\"white\",\"ticks\":\"\"},\"bgcolor\":\"#E5ECF6\",\"caxis\":{\"gridcolor\":\"white\",\"linecolor\":\"white\",\"ticks\":\"\"}},\"title\":{\"x\":0.05},\"xaxis\":{\"automargin\":true,\"gridcolor\":\"white\",\"linecolor\":\"white\",\"ticks\":\"\",\"title\":{\"standoff\":15},\"zerolinecolor\":\"white\",\"zerolinewidth\":2},\"yaxis\":{\"automargin\":true,\"gridcolor\":\"white\",\"linecolor\":\"white\",\"ticks\":\"\",\"title\":{\"standoff\":15},\"zerolinecolor\":\"white\",\"zerolinewidth\":2}}}},                        {\"responsive\": true}                    ).then(function(){\n",
              "                            Plotly.addFrames('693dc5d8-4d0c-4fac-bb90-60a34dd5d228', [{\"layout\":{\"scene\":{\"camera\":{\"eye\":{\"x\":1.25,\"y\":1.25,\"z\":0.8}}}}},{\"layout\":{\"scene\":{\"camera\":{\"eye\":{\"x\":1.3685469774060675,\"y\":1.1189634357889973,\"z\":0.8}}}}},{\"layout\":{\"scene\":{\"camera\":{\"eye\":{\"x\":1.4734198857953784,\"y\":0.9767465588077254,\"z\":0.8}}}}},{\"layout\":{\"scene\":{\"camera\":{\"eye\":{\"x\":1.5635708697336819,\"y\":0.824770353080333,\"z\":0.8}}}}},{\"layout\":{\"scene\":{\"camera\":{\"eye\":{\"x\":1.6380991703894194,\"y\":0.6645533146177932,\"z\":0.8}}}}},{\"layout\":{\"scene\":{\"camera\":{\"eye\":{\"x\":1.6962601256182197,\"y\":0.4976962791077122,\"z\":0.8}}}}},{\"layout\":{\"scene\":{\"camera\":{\"eye\":{\"x\":1.737472610380892,\"y\":0.32586642689330336,\"z\":0.8}}}}},{\"layout\":{\"scene\":{\"camera\":{\"eye\":{\"x\":1.7613248431527242,\"y\":0.15078062505849654,\"z\":0.8}}}}},{\"layout\":{\"scene\":{\"camera\":{\"eye\":{\"x\":1.7675785003083602,\"y\":-0.025811726940446755,\"z\":0.8}}}}},{\"layout\":{\"scene\":{\"camera\":{\"eye\":{\"x\":1.7561710973726847,\"y\":-0.20214617669602375,\"z\":0.8}}}}},{\"layout\":{\"scene\":{\"camera\":{\"eye\":{\"x\":1.7272166133450453,\"y\":-0.376460848674696,\"z\":0.8}}}}},{\"layout\":{\"scene\":{\"camera\":{\"eye\":{\"x\":1.6810043518587658,\"y\":-0.5470140482948226,\"z\":0.8}}}}},{\"layout\":{\"scene\":{\"camera\":{\"eye\":{\"x\":1.6179960505548747,\"y\":-0.7121016643631912,\"z\":0.8}}}}},{\"layout\":{\"scene\":{\"camera\":{\"eye\":{\"x\":1.5388212675522255,\"y\":-0.870074195990757,\"z\":0.8}}}}},{\"layout\":{\"scene\":{\"camera\":{\"eye\":{\"x\":1.4442710911108763,\"y\":-1.0193532338602744,\"z\":0.8}}}}},{\"layout\":{\"scene\":{\"camera\":{\"eye\":{\"x\":1.3352902353396967,\"y\":-1.1584472311704395,\"z\":0.8}}}}},{\"layout\":{\"scene\":{\"camera\":{\"eye\":{\"x\":1.2129676009252703,\"y\":-1.2859664066784924,\"z\":0.8}}}}},{\"layout\":{\"scene\":{\"camera\":{\"eye\":{\"x\":1.0785253951961797,\"y\":-1.4006366309349918,\"z\":0.8}}}}},{\"layout\":{\"scene\":{\"camera\":{\"eye\":{\"x\":0.9333069202313851,\"y\":-1.5013121569641028,\"z\":0.8}}}}},{\"layout\":{\"scene\":{\"camera\":{\"eye\":{\"x\":0.7787631510298885,\"y\":-1.5869870681886475,\"z\":0.8}}}}},{\"layout\":{\"scene\":{\"camera\":{\"eye\":{\"x\":0.6164382378481742,\"y\":-1.6568053292160303,\"z\":0.8}}}}},{\"layout\":{\"scene\":{\"camera\":{\"eye\":{\"x\":0.44795407756127026,\"y\":-1.710069339060914,\"z\":0.8}}}}},{\"layout\":{\"scene\":{\"camera\":{\"eye\":{\"x\":0.27499410820530534,\"y\":-1.7462469013436699,\"z\":0.8}}}}},{\"layout\":{\"scene\":{\"camera\":{\"eye\":{\"x\":0.09928648862111944,\"y\":-1.7649765418206806,\"z\":0.8}}}}},{\"layout\":{\"scene\":{\"camera\":{\"eye\":{\"x\":-0.07741316873761894,\"y\":-1.7660711201154955,\"z\":0.8}}}}},{\"layout\":{\"scene\":{\"camera\":{\"eye\":{\"x\":-0.25333933930372143,\"y\":-1.7495196995636126,\"z\":0.8}}}}},{\"layout\":{\"scene\":{\"camera\":{\"eye\":{\"x\":-0.4267342269343539,\"y\":-1.7154876564880144,\"z\":0.8}}}}},{\"layout\":{\"scene\":{\"camera\":{\"eye\":{\"x\":-0.5958653272290393,\"y\":-1.6643150278136138,\"z\":0.8}}}}},{\"layout\":{\"scene\":{\"camera\":{\"eye\":{\"x\":-0.7590427381409421,\"y\":-1.5965131135307038,\"z\":0.8}}}}},{\"layout\":{\"scene\":{\"camera\":{\"eye\":{\"x\":-0.9146360449195108,\"y\":-1.5127593679544658,\"z\":0.8}}}}},{\"layout\":{\"scene\":{\"camera\":{\"eye\":{\"x\":-1.0610906106757227,\"y\":-1.4138906308253907,\"z\":0.8}}}}},{\"layout\":{\"scene\":{\"camera\":{\"eye\":{\"x\":-1.196943109799986,\"y\":-1.3008947658832124,\"z\":0.8}}}}},{\"layout\":{\"scene\":{\"camera\":{\"eye\":{\"x\":-1.3208361490279166,\"y\":-1.1749007904589663,\"z\":0.8}}}}},{\"layout\":{\"scene\":{\"camera\":{\"eye\":{\"x\":-1.431531830065142,\"y\":-1.0371675947070202,\"z\":0.8}}}}},{\"layout\":{\"scene\":{\"camera\":{\"eye\":{\"x\":-1.5279241182578656,\"y\":-0.8890713631907865,\"z\":0.8}}}}},{\"layout\":{\"scene\":{\"camera\":{\"eye\":{\"x\":-1.6090498937255202,\"y\":-0.7320918245014705,\"z\":0.8}}}}},{\"layout\":{\"scene\":{\"camera\":{\"eye\":{\"x\":-1.6740985745362496,\"y\":-0.5677974662991182,\"z\":0.8}}}}},{\"layout\":{\"scene\":{\"camera\":{\"eye\":{\"x\":-1.7224202157736266,\"y\":-0.39782986350239324,\"z\":0.8}}}}},{\"layout\":{\"scene\":{\"camera\":{\"eye\":{\"x\":-1.7535320035714197,\"y\":-0.22388727621462157,\"z\":0.8}}}}},{\"layout\":{\"scene\":{\"camera\":{\"eye\":{\"x\":-1.7671230792301427,\"y\":-0.04770768127020719,\"z\":0.8}}}}},{\"layout\":{\"scene\":{\"camera\":{\"eye\":{\"x\":-1.7630576452144253,\"y\":0.1289485930553954,\"z\":0.8}}}}},{\"layout\":{\"scene\":{\"camera\":{\"eye\":{\"x\":-1.741376321997099,\"y\":0.30431645566392784,\"z\":0.8}}}}},{\"layout\":{\"scene\":{\"camera\":{\"eye\":{\"x\":-1.7022957421928595,\"y\":0.47664368884111097,\"z\":0.8}}}}},{\"layout\":{\"scene\":{\"camera\":{\"eye\":{\"x\":-1.646206386036788,\"y\":0.6442084558368493,\"z\":0.8}}}}},{\"layout\":{\"scene\":{\"camera\":{\"eye\":{\"x\":-1.573668679834919,\"y\":0.8053365048888708,\"z\":0.8}}}}},{\"layout\":{\"scene\":{\"camera\":{\"eye\":{\"x\":-1.4854073963698458,\"y\":0.9584178977928967,\"z\":0.8}}}}},{\"layout\":{\"scene\":{\"camera\":{\"eye\":{\"x\":-1.3823044132106481,\"y\":1.101923095873013,\"z\":0.8}}}}},{\"layout\":{\"scene\":{\"camera\":{\"eye\":{\"x\":-1.2653899012837393,\"y\":1.2344182426265127,\"z\":0.8}}}}},{\"layout\":{\"scene\":{\"camera\":{\"eye\":{\"x\":-1.1358320317454915,\"y\":1.3545794903441097,\"z\":0.8}}}}},{\"layout\":{\"scene\":{\"camera\":{\"eye\":{\"x\":-0.9949253040021958,\"y\":1.4612062275586353,\"z\":0.8}}}}},{\"layout\":{\"scene\":{\"camera\":{\"eye\":{\"x\":-0.8440776114998902,\"y\":1.553233075157956,\"z\":0.8}}}}},{\"layout\":{\"scene\":{\"camera\":{\"eye\":{\"x\":-0.6847961745184389,\"y\":1.6297405313008917,\"z\":0.8}}}}},{\"layout\":{\"scene\":{\"camera\":{\"eye\":{\"x\":-0.5186724805247199,\"y\":1.6899641587756626,\"z\":0.8}}}}},{\"layout\":{\"scene\":{\"camera\":{\"eye\":{\"x\":-0.347366382555924,\"y\":1.733302223003828,\"z\":0.8}}}}},{\"layout\":{\"scene\":{\"camera\":{\"eye\":{\"x\":-0.17258951451669058,\"y\":1.7593217043732774,\"z\":0.8}}}}},{\"layout\":{\"scene\":{\"camera\":{\"eye\":{\"x\":0.0039118109010850555,\"y\":1.767762624827065,\"z\":0.8}}}}},{\"layout\":{\"scene\":{\"camera\":{\"eye\":{\"x\":0.18037405079741164,\"y\":1.7585406454782138,\"z\":0.8}}}}},{\"layout\":{\"scene\":{\"camera\":{\"eye\":{\"x\":0.3550340528019027,\"y\":1.7317479092959966,\"z\":0.8}}}}},{\"layout\":{\"scene\":{\"camera\":{\"eye\":{\"x\":0.5261466719094534,\"y\":1.6876521204438448,\"z\":0.8}}}}},{\"layout\":{\"scene\":{\"camera\":{\"eye\":{\"x\":0.6920022073922499,\"y\":1.62669386946784,\"z\":0.8}}}}},{\"layout\":{\"scene\":{\"camera\":{\"eye\":{\"x\":0.8509434855643001,\"y\":1.5494822310616148,\"z\":0.8}}}}},{\"layout\":{\"scene\":{\"camera\":{\"eye\":{\"x\":1.001382417713112,\"y\":1.4567886783933495,\"z\":0.8}}}}},{\"layout\":{\"scene\":{\"camera\":{\"eye\":{\"x\":1.1418158677571515,\"y\":1.3495393748008924,\"z\":0.8}}}}},{\"layout\":{\"scene\":{\"camera\":{\"eye\":{\"x\":1.270840671084707,\"y\":1.2288059198738308,\"z\":0.8}}}}},{\"layout\":{\"scene\":{\"camera\":{\"eye\":{\"x\":1.3871676545108578,\"y\":1.0957946423846239,\"z\":0.8}}}}},{\"layout\":{\"scene\":{\"camera\":{\"eye\":{\"x\":1.4896345172697987,\"y\":0.9518345470502599,\"z\":0.8}}}}},{\"layout\":{\"scene\":{\"camera\":{\"eye\":{\"x\":1.577217444339885,\"y\":0.7983640355564382,\"z\":0.8}}}}},{\"layout\":{\"scene\":{\"camera\":{\"eye\":{\"x\":1.6490413360648972,\"y\":0.6369165345234014,\"z\":0.8}}}}},{\"layout\":{\"scene\":{\"camera\":{\"eye\":{\"x\":1.7043885518605422,\"y\":0.46910517401401974,\"z\":0.8}}}}},{\"layout\":{\"scene\":{\"camera\":{\"eye\":{\"x\":1.742706080641946,\"y\":0.2966066696714459,\"z\":0.8}}}}},{\"layout\":{\"scene\":{\"camera\":{\"eye\":{\"x\":1.7636110663276172,\"y\":0.12114456953064445,\"z\":0.8}}}}},{\"layout\":{\"scene\":{\"camera\":{\"eye\":{\"x\":1.766894633210853,\"y\":-0.05552796710383823,\"z\":0.8}}}}},{\"layout\":{\"scene\":{\"camera\":{\"eye\":{\"x\":1.7525239729767597,\"y\":-0.23164568664612328,\"z\":0.8}}}}},{\"layout\":{\"scene\":{\"camera\":{\"eye\":{\"x\":1.7206426725120867,\"y\":-0.4054488790593255,\"z\":0.8}}}}},{\"layout\":{\"scene\":{\"camera\":{\"eye\":{\"x\":1.6715692792325216,\"y\":-0.5752009602965458,\"z\":0.8}}}}},{\"layout\":{\"scene\":{\"camera\":{\"eye\":{\"x\":1.605794118262206,\"y\":-0.7392058236746413,\"z\":0.8}}}}},{\"layout\":{\"scene\":{\"camera\":{\"eye\":{\"x\":1.5239743932671765,\"y\":-0.8958247868115395,\"z\":0.8}}}}},{\"layout\":{\"scene\":{\"camera\":{\"eye\":{\"x\":1.426927619893581,\"y\":-1.04349296479892,\"z\":0.8}}}}},{\"layout\":{\"scene\":{\"camera\":{\"eye\":{\"x\":1.3156234574215673,\"y\":-1.180734906014945,\"z\":0.8}}}}},{\"layout\":{\"scene\":{\"camera\":{\"eye\":{\"x\":1.1911740202502938,\"y\":-1.3061793343491364,\"z\":0.8}}}}},{\"layout\":{\"scene\":{\"camera\":{\"eye\":{\"x\":1.0548227660184604,\"y\":-1.4185728505399942,\"z\":0.8}}}}},{\"layout\":{\"scene\":{\"camera\":{\"eye\":{\"x\":0.9079320713866189,\"y\":-1.5167924557260966,\"z\":0.8}}}}},{\"layout\":{\"scene\":{\"camera\":{\"eye\":{\"x\":0.7519696196199205,\"y\":-1.599856772079511,\"z\":0.8}}}}},{\"layout\":{\"scene\":{\"camera\":{\"eye\":{\"x\":0.5884937359820905,\"y\":-1.6669358484086425,\"z\":0.8}}}}},{\"layout\":{\"scene\":{\"camera\":{\"eye\":{\"x\":0.41913781746449363,\"y\":-1.7173594527562077,\"z\":0.8}}}}},{\"layout\":{\"scene\":{\"camera\":{\"eye\":{\"x\":0.24559401242333323,\"y\":-1.7506237691353923,\"z\":0.8}}}}},{\"layout\":{\"scene\":{\"camera\":{\"eye\":{\"x\":0.06959631319262605,\"y\":-1.7663964314926572,\"z\":0.8}}}}},{\"layout\":{\"scene\":{\"camera\":{\"eye\":{\"x\":-0.10709676939402235,\"y\":-1.7645198445994774,\"z\":0.8}}}}},{\"layout\":{\"scene\":{\"camera\":{\"eye\":{\"x\":-0.2827197764623679,\"y\":-1.745012758691772,\"z\":0.8}}}}},{\"layout\":{\"scene\":{\"camera\":{\"eye\":{\"x\":-0.45551794097903464,\"y\":-1.7080700821237462,\"z\":0.8}}}}},{\"layout\":{\"scene\":{\"camera\":{\"eye\":{\"x\":-0.6237647208036504,\"y\":-1.6540609339080419,\"z\":0.8}}}}},{\"layout\":{\"scene\":{\"camera\":{\"eye\":{\"x\":-0.7857790497271997,\"y\":-1.58352495560058,\"z\":0.8}}}}},{\"layout\":{\"scene\":{\"camera\":{\"eye\":{\"x\":-0.9399421341298975,\"y\":-1.4971669193805124,\"z\":0.8}}}}},{\"layout\":{\"scene\":{\"camera\":{\"eye\":{\"x\":-1.0847136274319271,\"y\":-1.3958496861995813,\"z\":0.8}}}}},{\"layout\":{\"scene\":{\"camera\":{\"eye\":{\"x\":-1.218647020727311,\"y\":-1.2805855843607052,\"z\":0.8}}}}},{\"layout\":{\"scene\":{\"camera\":{\"eye\":{\"x\":-1.3404040958227346,\"y\":-1.1525262946682115,\"z\":0.8}}}}},{\"layout\":{\"scene\":{\"camera\":{\"eye\":{\"x\":-1.448768296271385,\"y\":-1.0129513432139317,\"z\":0.8}}}}},{\"layout\":{\"scene\":{\"camera\":{\"eye\":{\"x\":-1.5426568828028173,\"y\":-0.8632553167754569,\"z\":0.8}}}}},{\"layout\":{\"scene\":{\"camera\":{\"eye\":{\"x\":-1.6211317516958519,\"y\":-0.7049339285660311,\"z\":0.8}}}}},{\"layout\":{\"scene\":{\"camera\":{\"eye\":{\"x\":-1.6834088080008527,\"y\":-0.5395690735625494,\"z\":0.8}}}}},{\"layout\":{\"scene\":{\"camera\":{\"eye\":{\"x\":-1.7288657999572776,\"y\":-0.3688130227338533,\"z\":0.8}}}}},{\"layout\":{\"scene\":{\"camera\":{\"eye\":{\"x\":-1.7570485363275825,\"y\":-0.1943719140953739,\"z\":0.8}}}}},{\"layout\":{\"scene\":{\"camera\":{\"eye\":{\"x\":-1.7676754245259283,\"y\":-0.017988705542069106,\"z\":0.8}}}}}]);\n",
              "                        }).then(function(){\n",
              "                            \n",
              "var gd = document.getElementById('693dc5d8-4d0c-4fac-bb90-60a34dd5d228');\n",
              "var x = new MutationObserver(function (mutations, observer) {{\n",
              "        var display = window.getComputedStyle(gd).display;\n",
              "        if (!display || display === 'none') {{\n",
              "            console.log([gd, 'removed!']);\n",
              "            Plotly.purge(gd);\n",
              "            observer.disconnect();\n",
              "        }}\n",
              "}});\n",
              "\n",
              "// Listen for the removal of the full notebook cells\n",
              "var notebookContainer = gd.closest('#notebook-container');\n",
              "if (notebookContainer) {{\n",
              "    x.observe(notebookContainer, {childList: true});\n",
              "}}\n",
              "\n",
              "// Listen for the clearing of the current output cell\n",
              "var outputEl = gd.closest('.output');\n",
              "if (outputEl) {{\n",
              "    x.observe(outputEl, {childList: true});\n",
              "}}\n",
              "\n",
              "                        })                };                            </script>        </div>\n",
              "</body>\n",
              "</html>"
            ]
          },
          "metadata": {}
        }
      ]
    },
    {
      "cell_type": "markdown",
      "source": [
        "**Sample points**"
      ],
      "metadata": {
        "id": "U8SvG__S0gcY"
      }
    },
    {
      "cell_type": "code",
      "source": [
        "class PointSampler(object):\n",
        "    def __init__(self, output_size):\n",
        "        assert isinstance(output_size, int)\n",
        "        self.output_size = output_size\n",
        "    \n",
        "    def triangle_area(self, pt1, pt2, pt3):\n",
        "        side_a = np.linalg.norm(pt1 - pt2)\n",
        "        side_b = np.linalg.norm(pt2 - pt3)\n",
        "        side_c = np.linalg.norm(pt3 - pt1)\n",
        "        s = 0.5 * ( side_a + side_b + side_c)\n",
        "        return max(s * (s - side_a) * (s - side_b) * (s - side_c), 0)**0.5\n",
        "\n",
        "    def sample_point(self, pt1, pt2, pt3):\n",
        "        # barycentric coordinates on a triangle\n",
        "        # https://mathworld.wolfram.com/BarycentricCoordinates.html\n",
        "        s, t = sorted([random.random(), random.random()])\n",
        "        f = lambda i: s * pt1[i] + (t-s)*pt2[i] + (1-t)*pt3[i]\n",
        "        return (f(0), f(1), f(2))\n",
        "        \n",
        "    \n",
        "    def __call__(self, mesh):\n",
        "        verts, faces = mesh\n",
        "        verts = np.array(verts)\n",
        "        areas = np.zeros((len(faces)))\n",
        "\n",
        "        for i in range(len(areas)):\n",
        "            areas[i] = (self.triangle_area(verts[faces[i][0]],\n",
        "                                           verts[faces[i][1]],\n",
        "                                           verts[faces[i][2]]))\n",
        "            \n",
        "        sampled_faces = (random.choices(faces, \n",
        "                                      weights=areas,\n",
        "                                      cum_weights=None,\n",
        "                                      k=self.output_size))\n",
        "        \n",
        "        sampled_points = np.zeros((self.output_size, 3))\n",
        "\n",
        "        for i in range(len(sampled_faces)):\n",
        "            sampled_points[i] = (self.sample_point(verts[sampled_faces[i][0]],\n",
        "                                                   verts[sampled_faces[i][1]],\n",
        "                                                   verts[sampled_faces[i][2]]))\n",
        "        \n",
        "        return sampled_points\n",
        "    "
      ],
      "metadata": {
        "id": "Yf4BrMf0yzYp"
      },
      "execution_count": 128,
      "outputs": []
    },
    {
      "cell_type": "code",
      "source": [
        "pointcloud = PointSampler(150)((verts, faces))"
      ],
      "metadata": {
        "colab": {
          "base_uri": "https://localhost:8080/",
          "height": 335
        },
        "id": "RakwD83SyhLh",
        "outputId": "454fbc04-d7d7-4658-a035-5b3d1264b341"
      },
      "execution_count": 129,
      "outputs": [
        {
          "output_type": "error",
          "ename": "IndexError",
          "evalue": "ignored",
          "traceback": [
            "\u001b[0;31m---------------------------------------------------------------------------\u001b[0m",
            "\u001b[0;31mIndexError\u001b[0m                                Traceback (most recent call last)",
            "\u001b[0;32m<ipython-input-129-4f2b07c034e4>\u001b[0m in \u001b[0;36m<module>\u001b[0;34m()\u001b[0m\n\u001b[0;32m----> 1\u001b[0;31m \u001b[0mpointcloud\u001b[0m \u001b[0;34m=\u001b[0m \u001b[0mPointSampler\u001b[0m\u001b[0;34m(\u001b[0m\u001b[0;36m150\u001b[0m\u001b[0;34m)\u001b[0m\u001b[0;34m(\u001b[0m\u001b[0;34m(\u001b[0m\u001b[0mverts\u001b[0m\u001b[0;34m,\u001b[0m \u001b[0mfaces\u001b[0m\u001b[0;34m)\u001b[0m\u001b[0;34m)\u001b[0m\u001b[0;34m\u001b[0m\u001b[0;34m\u001b[0m\u001b[0m\n\u001b[0m",
            "\u001b[0;32m<ipython-input-128-3386bb66d167>\u001b[0m in \u001b[0;36m__call__\u001b[0;34m(self, mesh)\u001b[0m\n\u001b[1;32m     32\u001b[0m                                       \u001b[0mweights\u001b[0m\u001b[0;34m=\u001b[0m\u001b[0mareas\u001b[0m\u001b[0;34m,\u001b[0m\u001b[0;34m\u001b[0m\u001b[0;34m\u001b[0m\u001b[0m\n\u001b[1;32m     33\u001b[0m                                       \u001b[0mcum_weights\u001b[0m\u001b[0;34m=\u001b[0m\u001b[0;32mNone\u001b[0m\u001b[0;34m,\u001b[0m\u001b[0;34m\u001b[0m\u001b[0;34m\u001b[0m\u001b[0m\n\u001b[0;32m---> 34\u001b[0;31m                                       k=self.output_size))\n\u001b[0m\u001b[1;32m     35\u001b[0m \u001b[0;34m\u001b[0m\u001b[0m\n\u001b[1;32m     36\u001b[0m         \u001b[0msampled_points\u001b[0m \u001b[0;34m=\u001b[0m \u001b[0mnp\u001b[0m\u001b[0;34m.\u001b[0m\u001b[0mzeros\u001b[0m\u001b[0;34m(\u001b[0m\u001b[0;34m(\u001b[0m\u001b[0mself\u001b[0m\u001b[0;34m.\u001b[0m\u001b[0moutput_size\u001b[0m\u001b[0;34m,\u001b[0m \u001b[0;36m3\u001b[0m\u001b[0;34m)\u001b[0m\u001b[0;34m)\u001b[0m\u001b[0;34m\u001b[0m\u001b[0;34m\u001b[0m\u001b[0m\n",
            "\u001b[0;32m/usr/lib/python3.7/random.py\u001b[0m in \u001b[0;36mchoices\u001b[0;34m(self, population, weights, cum_weights, k)\u001b[0m\n\u001b[1;32m    361\u001b[0m             \u001b[0;32mraise\u001b[0m \u001b[0mValueError\u001b[0m\u001b[0;34m(\u001b[0m\u001b[0;34m'The number of weights does not match the population'\u001b[0m\u001b[0;34m)\u001b[0m\u001b[0;34m\u001b[0m\u001b[0;34m\u001b[0m\u001b[0m\n\u001b[1;32m    362\u001b[0m         \u001b[0mbisect\u001b[0m \u001b[0;34m=\u001b[0m \u001b[0m_bisect\u001b[0m\u001b[0;34m.\u001b[0m\u001b[0mbisect\u001b[0m\u001b[0;34m\u001b[0m\u001b[0;34m\u001b[0m\u001b[0m\n\u001b[0;32m--> 363\u001b[0;31m         \u001b[0mtotal\u001b[0m \u001b[0;34m=\u001b[0m \u001b[0mcum_weights\u001b[0m\u001b[0;34m[\u001b[0m\u001b[0;34m-\u001b[0m\u001b[0;36m1\u001b[0m\u001b[0;34m]\u001b[0m\u001b[0;34m\u001b[0m\u001b[0;34m\u001b[0m\u001b[0m\n\u001b[0m\u001b[1;32m    364\u001b[0m         \u001b[0mhi\u001b[0m \u001b[0;34m=\u001b[0m \u001b[0mlen\u001b[0m\u001b[0;34m(\u001b[0m\u001b[0mcum_weights\u001b[0m\u001b[0;34m)\u001b[0m \u001b[0;34m-\u001b[0m \u001b[0;36m1\u001b[0m\u001b[0;34m\u001b[0m\u001b[0;34m\u001b[0m\u001b[0m\n\u001b[1;32m    365\u001b[0m         return [population[bisect(cum_weights, random() * total, 0, hi)]\n",
            "\u001b[0;31mIndexError\u001b[0m: list index out of range"
          ]
        }
      ]
    },
    {
      "cell_type": "code",
      "source": [
        "pcshow(*pointcloud.T)"
      ],
      "metadata": {
        "id": "s1ekXdEKy4-U"
      },
      "execution_count": null,
      "outputs": []
    },
    {
      "cell_type": "code",
      "source": [
        "class Normalize(object):\n",
        "    def __call__(self, pointcloud):\n",
        "        assert len(pointcloud.shape)==2\n",
        "        \n",
        "        norm_pointcloud = pointcloud - np.mean(pointcloud, axis=0) \n",
        "        norm_pointcloud /= np.max(np.linalg.norm(norm_pointcloud, axis=1))\n",
        "\n",
        "        return  norm_pointcloud"
      ],
      "metadata": {
        "id": "8OreTtrpx6V-"
      },
      "execution_count": null,
      "outputs": []
    },
    {
      "cell_type": "code",
      "source": [
        "norm_pointcloud = Normalize()(pointcloud)"
      ],
      "metadata": {
        "id": "kY93aT3fx9VI"
      },
      "execution_count": null,
      "outputs": []
    },
    {
      "cell_type": "code",
      "source": [
        "pcshow(*norm_pointcloud.T)"
      ],
      "metadata": {
        "id": "PIGs9OUmyBq4"
      },
      "execution_count": null,
      "outputs": []
    }
  ]
}